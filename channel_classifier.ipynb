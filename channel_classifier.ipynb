{
  "nbformat": 4,
  "nbformat_minor": 0,
  "metadata": {
    "colab": {
      "name": "channel_classifier.ipynb",
      "provenance": []
    },
    "kernelspec": {
      "name": "python3",
      "display_name": "Python 3"
    },
    "language_info": {
      "name": "python"
    }
  },
  "cells": [
    {
      "cell_type": "code",
      "metadata": {
        "id": "m4hsIL7fClUm"
      },
      "source": [
        "%%capture\n",
        "%cd /content\n",
        "!rm -rf vape-classification/\n",
        "!git clone https://github.com/sschott20/youtube-vape-classification\n",
        "%cd youtube-vape-classification\n",
        "%mkdir 'models'"
      ],
      "execution_count": null,
      "outputs": []
    },
    {
      "cell_type": "code",
      "metadata": {
        "id": "pMJAygpYDWb7"
      },
      "source": [
        "%%capture\n",
        "\n",
        "\n",
        "import os\n",
        "import tensorflow as tf\n",
        "\n",
        "import keras\n",
        "from numpy import array\n",
        "from keras import models\n",
        "from keras.preprocessing.text import one_hot\n",
        "from keras.preprocessing.sequence import pad_sequences\n",
        "from keras.models import Sequential\n",
        "from keras.layers.core import Activation, Dropout, Dense\n",
        "from keras.layers import Flatten, LSTM, Bidirectional,GlobalAveragePooling1D\n",
        "from keras.layers import GlobalMaxPooling1D\n",
        "from keras.models import Model\n",
        "from keras.layers.embeddings import Embedding\n",
        "from sklearn.model_selection import train_test_split\n",
        "from keras.preprocessing.text import Tokenizer\n",
        "from keras.layers import Input\n",
        "from keras.layers.merge import Concatenate\n",
        "\n",
        "from keras.utils import np_utils\n",
        "import matplotlib.pyplot as plt\n",
        "!pip install langdetect\n",
        "from langdetect import detect, detect_langs\n",
        "from pydrive.auth import GoogleAuth\n",
        "from pydrive.drive import GoogleDrive\n",
        "from google.colab import auth\n",
        "from oauth2client.client import GoogleCredentials\n",
        "\n",
        "from zipfile import ZipFile\n",
        "import nltk\n",
        "from sklearn.preprocessing import LabelEncoder\n",
        "import pickle\n",
        "import pandas as pd\n",
        "import numpy as np\n",
        "import re\n",
        "import random\n",
        "import string\n",
        "\n",
        "from langdetect import DetectorFactory\n",
        "DetectorFactory.seed = 0\n"
      ],
      "execution_count": null,
      "outputs": []
    },
    {
      "cell_type": "code",
      "metadata": {
        "id": "j4ew7I4rDAMo"
      },
      "source": [
        "auth.authenticate_user()\n",
        "gauth = GoogleAuth()\n",
        "gauth.credentials = GoogleCredentials.get_application_default()\n",
        "drive = GoogleDrive(gauth)"
      ],
      "execution_count": null,
      "outputs": []
    },
    {
      "cell_type": "code",
      "metadata": {
        "id": "TCvNJDtdR7Zk"
      },
      "source": [
        "# downlaod embedding datasets from google drive\n",
        "\n",
        "download = drive.CreateFile({'id': '1Pcow88UospIZfFX-qhEPt0wPs6EmwW0X'})\n",
        "download.GetContentFile('/content/youtube-vape-classification/glove_small.zip')\n",
        "\n",
        "with ZipFile('/content/youtube-vape-classification/glove_small.zip', 'r') as zipObj:\n",
        "   zipObj.extractall()\n",
        "\n",
        "with ZipFile('/content/youtube-vape-classification/channel_data.zip', 'r') as zipObj:\n",
        "   zipObj.extractall()"
      ],
      "execution_count": null,
      "outputs": []
    },
    {
      "cell_type": "code",
      "metadata": {
        "id": "Ol3-Wy33EoiP",
        "colab": {
          "base_uri": "https://localhost:8080/",
          "height": 231
        },
        "outputId": "0982ff11-bfea-4ee3-c88c-3b18cc202826"
      },
      "source": [
        "pd.set_option('display.max_columns', None)\n",
        "pd.set_option('display.max_rows', None)\n",
        "\n",
        "# cutoff for each data, \n",
        "maxlen = 200\n",
        "\n",
        "def preprocess_text(input_text):\n",
        "    # remove special characters, numbers, spaces, and convert to lowercase\n",
        "    output_text = input_text.lower()\n",
        "    output_text = re.sub(r'(https?:\\/\\/)(\\s)*(www\\.)?(\\s)*((\\w|\\s)+\\.)*([\\w\\-\\s]+\\/)*([\\w\\-]+)((\\?)?[\\w\\s]*=\\s*[\\w\\%&]*)*', ' ', output_text)\n",
        "    output_text = re.sub(r'[^a-zA-Z0-9 ]', '', output_text)\n",
        "    output_text = re.sub(r'[0-9]+', ' number ', output_text)\n",
        "    output_text = re.sub(r'\\s+', ' ', output_text)\n",
        "\n",
        "    return output_text\n",
        "\n",
        "def process_text(input_text):\n",
        "    # change from strings to a sequence of integers to input into model\n",
        "    output_text = tokenizer.texts_to_sequences(input_text)\n",
        "    output_text = pad_sequences(output_text, padding='post', truncating='post', maxlen=maxlen)\n",
        "    return output_text\n"
      ],
      "execution_count": null,
      "outputs": [
        {
          "output_type": "error",
          "ename": "NameError",
          "evalue": "ignored",
          "traceback": [
            "\u001b[0;31m---------------------------------------------------------------------------\u001b[0m",
            "\u001b[0;31mNameError\u001b[0m                                 Traceback (most recent call last)",
            "\u001b[0;32m<ipython-input-1-7dee3fc3fa35>\u001b[0m in \u001b[0;36m<module>\u001b[0;34m()\u001b[0m\n\u001b[0;32m----> 1\u001b[0;31m \u001b[0mpd\u001b[0m\u001b[0;34m.\u001b[0m\u001b[0mset_option\u001b[0m\u001b[0;34m(\u001b[0m\u001b[0;34m'display.max_columns'\u001b[0m\u001b[0;34m,\u001b[0m \u001b[0;32mNone\u001b[0m\u001b[0;34m)\u001b[0m\u001b[0;34m\u001b[0m\u001b[0;34m\u001b[0m\u001b[0m\n\u001b[0m\u001b[1;32m      2\u001b[0m \u001b[0mpd\u001b[0m\u001b[0;34m.\u001b[0m\u001b[0mset_option\u001b[0m\u001b[0;34m(\u001b[0m\u001b[0;34m'display.max_rows'\u001b[0m\u001b[0;34m,\u001b[0m \u001b[0;32mNone\u001b[0m\u001b[0;34m)\u001b[0m\u001b[0;34m\u001b[0m\u001b[0;34m\u001b[0m\u001b[0m\n\u001b[1;32m      3\u001b[0m \u001b[0;34m\u001b[0m\u001b[0m\n\u001b[1;32m      4\u001b[0m \u001b[0;31m# cutoff for each data,\u001b[0m\u001b[0;34m\u001b[0m\u001b[0;34m\u001b[0m\u001b[0;34m\u001b[0m\u001b[0m\n\u001b[1;32m      5\u001b[0m \u001b[0mmaxlen\u001b[0m \u001b[0;34m=\u001b[0m \u001b[0;36m200\u001b[0m\u001b[0;34m\u001b[0m\u001b[0;34m\u001b[0m\u001b[0m\n",
            "\u001b[0;31mNameError\u001b[0m: name 'pd' is not defined"
          ]
        }
      ]
    },
    {
      "cell_type": "code",
      "metadata": {
        "id": "eJr9sSUFpI5W"
      },
      "source": [
        "embeddings_dictionary = dict()\n",
        "\n",
        "with open('/content/youtube-vape-classification/glove.twitter.27B.100d.txt') as f:\n",
        "    # transfer data from embedding datasets into a usable array\n",
        "    for line in f:\n",
        "        values = line.split()\n",
        "        word = values[0]\n",
        "        vector_dimensions = np.asarray(values[1:], dtype='float32')\n",
        "        embeddings_dictionary[word] = vector_dimensions\n"
      ],
      "execution_count": null,
      "outputs": []
    },
    {
      "cell_type": "code",
      "metadata": {
        "id": "-Rw27albOj7c"
      },
      "source": [
        "readable_data = pd.read_excel('/content/youtube-vape-classification/condensed_data.xlsx')\n",
        "channel_data_root = '/content/youtube-vape-classification/content/vape-classification/channels_data/'\n",
        "\n",
        "data = []\n",
        "\n",
        "\n",
        "\n",
        "for i, row in readable_data.iterrows():\n",
        "    exclude = False\n",
        "    # read data from labeled dataset\n",
        "\n",
        "    file_location = channel_data_root + row['Channel_URL'][32:] + \".xlsx\"\n",
        "    current_channel_data = pd.read_excel(file_location)\n",
        "\n",
        "    # irrelevant videos are excluded \n",
        "    if row['model_1'] != '10':\n",
        "        try:\n",
        "            label = int(row['condensed_model_3'])\n",
        "        except:\n",
        "            exclude = True \n",
        "        \n",
        "        for n, channel_video in current_channel_data.iterrows():\n",
        "            if not exclude:\n",
        "\n",
        "                # add text from video to x\n",
        "                x = preprocess_text(str(channel_video['video_title']) + \" \" + str(channel_video['video_description']))\n",
        "                # x = preprocess_text(str(channel_video['video_title']))\n",
        "\n",
        "                # exclude entries with no text\n",
        "                if len(x) > 0:\n",
        "\n",
        "                    data.append([label, x])\n",
        "                    # print([label,x])\n"
      ],
      "execution_count": null,
      "outputs": []
    },
    {
      "cell_type": "code",
      "metadata": {
        "id": "JuVpav57pMsi"
      },
      "source": [
        "# vocab size\n",
        "num_words = 1200\n",
        "\n",
        "data_x = [i[1] for i in data]\n",
        "data_y = [i[0] for i in data]\n",
        "\n",
        "\n",
        "tokenizer = Tokenizer(num_words=num_words)\n",
        "tokenizer.fit_on_texts(data_x)\n"
      ],
      "execution_count": null,
      "outputs": []
    },
    {
      "cell_type": "code",
      "metadata": {
        "id": "2RKP8dKKpMUr"
      },
      "source": [
        "\n",
        "# initialize embedding matrix \n",
        "embedding_matrix = np.zeros((num_words, 100))\n",
        "for word, index in tokenizer.word_index.items():\n",
        "    if index > num_words - 1:\n",
        "        break\n",
        "    embedding_vector = embeddings_dictionary.get(word)    \n",
        "    if  embedding_vector is not None:\n",
        "        embedding_matrix[index] = embedding_vector"
      ],
      "execution_count": null,
      "outputs": []
    },
    {
      "cell_type": "code",
      "metadata": {
        "id": "WJJZLT-Xp8ou",
        "colab": {
          "base_uri": "https://localhost:8080/"
        },
        "outputId": "92639f32-ba2d-489f-85cb-70aba573745c"
      },
      "source": [
        "encoder = LabelEncoder()\n",
        "encoder.fit(data_y)\n",
        "encoded_y = encoder.transform(data_y)\n",
        "dummy_y = np_utils.to_categorical(encoded_y)\n",
        "\n",
        "\n",
        "\n",
        "model = Sequential()\n",
        "model.add(Embedding(num_words, 100, weights=[embedding_matrix], trainable=True))\n",
        "model.add(Bidirectional(LSTM(128)))\n",
        "# model.add(GlobalAveragePooling1D())\n",
        "# model.add(Dense(100, activation='relu'))\n",
        "# model.add(Dense(150, activation='relu'))\n",
        "model.add(Dense(5, activation='sigmoid'))\n",
        "model.compile(loss='categorical_crossentropy', optimizer='adam', metrics=['acc', keras.metrics.Precision(), keras.metrics.Recall()])\n",
        "\n",
        "x_train_text, x_test_text, y_train, y_test = train_test_split(data_x, dummy_y, test_size = 0.2, random_state=1)\n",
        "batch_size = 32\n",
        "epochs = 10\n",
        "\n",
        "x_train = process_text(x_train_text)\n",
        "x_test = process_text(x_test_text)\n",
        "\n",
        "history = model.fit(x=x_train, y=y_train, batch_size=batch_size, epochs=epochs, verbose=1,validation_data=(x_test, y_test))"
      ],
      "execution_count": null,
      "outputs": [
        {
          "output_type": "stream",
          "text": [
            "Epoch 1/10\n",
            "249/249 [==============================] - 132s 439ms/step - loss: 1.1644 - acc: 0.5375 - precision: 0.3287 - recall: 0.8719 - val_loss: 0.7016 - val_acc: 0.7472 - val_precision: 0.4281 - val_recall: 0.9442\n",
            "Epoch 2/10\n",
            "249/249 [==============================] - 108s 436ms/step - loss: 0.6388 - acc: 0.7746 - precision: 0.4509 - recall: 0.9483 - val_loss: 0.5518 - val_acc: 0.8045 - val_precision: 0.4833 - val_recall: 0.9452\n",
            "Epoch 3/10\n",
            "249/249 [==============================] - 108s 436ms/step - loss: 0.4800 - acc: 0.8344 - precision: 0.5018 - recall: 0.9624 - val_loss: 0.5327 - val_acc: 0.8035 - val_precision: 0.5037 - val_recall: 0.9538\n",
            "Epoch 4/10\n",
            "249/249 [==============================] - 110s 442ms/step - loss: 0.3738 - acc: 0.8766 - precision: 0.5467 - recall: 0.9730 - val_loss: 0.4337 - val_acc: 0.8442 - val_precision: 0.5469 - val_recall: 0.9573\n",
            "Epoch 5/10\n",
            "249/249 [==============================] - 108s 435ms/step - loss: 0.2939 - acc: 0.9024 - precision: 0.5657 - recall: 0.9775 - val_loss: 0.4456 - val_acc: 0.8467 - val_precision: 0.5549 - val_recall: 0.9593\n",
            "Epoch 6/10\n",
            "249/249 [==============================] - 108s 434ms/step - loss: 0.2569 - acc: 0.9139 - precision: 0.5775 - recall: 0.9808 - val_loss: 0.4078 - val_acc: 0.8598 - val_precision: 0.5817 - val_recall: 0.9623\n",
            "Epoch 7/10\n",
            "249/249 [==============================] - 108s 435ms/step - loss: 0.2050 - acc: 0.9327 - precision: 0.5976 - recall: 0.9877 - val_loss: 0.4020 - val_acc: 0.8573 - val_precision: 0.5793 - val_recall: 0.9638\n",
            "Epoch 8/10\n",
            "249/249 [==============================] - 108s 435ms/step - loss: 0.1682 - acc: 0.9404 - precision: 0.6160 - recall: 0.9922 - val_loss: 0.4451 - val_acc: 0.8553 - val_precision: 0.5881 - val_recall: 0.9628\n",
            "Epoch 9/10\n",
            "249/249 [==============================] - 108s 435ms/step - loss: 0.1446 - acc: 0.9519 - precision: 0.6104 - recall: 0.9931 - val_loss: 0.4197 - val_acc: 0.8668 - val_precision: 0.6096 - val_recall: 0.9588\n",
            "Epoch 10/10\n",
            "249/249 [==============================] - 110s 442ms/step - loss: 0.1141 - acc: 0.9628 - precision: 0.6396 - recall: 0.9961 - val_loss: 0.4482 - val_acc: 0.8613 - val_precision: 0.6103 - val_recall: 0.9608\n"
          ],
          "name": "stdout"
        }
      ]
    },
    {
      "cell_type": "code",
      "metadata": {
        "id": "xY7dOiGEwpn3"
      },
      "source": [
        "def plot_history(history):\n",
        "    acc = history.history['acc']\n",
        "    val_acc = history.history['val_acc']\n",
        "    loss = history.history['loss']\n",
        "    val_loss = history.history['val_loss']\n",
        "    x = range(1, len(acc) + 1)\n",
        "\n",
        "    plt.figure(figsize=(12, 5))\n",
        "    plt.subplot(1, 2, 1)\n",
        "    plt.plot(x, acc, 'b', label='Training acc')\n",
        "    plt.plot(x, val_acc, 'r', label='Validation acc')\n",
        "    plt.title('Training and validation accuracy')\n",
        "    plt.legend()\n",
        "    plt.subplot(1, 2, 2)\n",
        "    plt.plot(x, loss, 'b', label='Training loss')\n",
        "    plt.plot(x, val_loss, 'r', label='Validation loss')\n",
        "    plt.title('Training and validation loss')\n",
        "    plt.legend()"
      ],
      "execution_count": null,
      "outputs": []
    },
    {
      "cell_type": "code",
      "metadata": {
        "colab": {
          "base_uri": "https://localhost:8080/",
          "height": 336
        },
        "id": "PM8spMgb1-iC",
        "outputId": "08484841-2a0c-44f6-874f-611dc0c6296e"
      },
      "source": [
        "plot_history(history)"
      ],
      "execution_count": null,
      "outputs": [
        {
          "output_type": "display_data",
          "data": {
            "image/png": "[encoded data removed]",
            "text/plain": [
              "<Figure size 864x360 with 2 Axes>"
            ]
          },
          "metadata": {
            "tags": [],
            "needs_background": "light"
          }
        }
      ]
    },
    {
      "cell_type": "code",
      "metadata": {
        "id": "EIksZ_bUsY4F",
        "colab": {
          "base_uri": "https://localhost:8080/"
        },
        "outputId": "054a6a30-8424-4f2e-fa97-f3f54985566c"
      },
      "source": [
        "from statistics import mean, harmonic_mean\n",
        "\n",
        "model_stats = pd.DataFrame\n",
        "\n",
        "template = {\n",
        "    \"false_negative\": 0,\n",
        "    \"true_negative\": 0,\n",
        "    \"false_positive\": 0,\n",
        "    \"true_positive\": 0,\n",
        "}\n",
        "\n",
        "count_list = [template.copy() for i in y_test[0]]\n",
        "\n",
        "results = model.predict(x=x_test)\n",
        "correct = 0\n",
        "incorrect = 0\n",
        "\n",
        "# goes through resulsts and counts each outcome\n",
        "for i, result in enumerate(results):\n",
        "    if np.argmax(result) == np.argmax(y_test[i]):\n",
        "        correct += 1\n",
        "        # print('\\n')\n",
        "        # print(np.argmax(result), np.argmax(y_test[i]), 'correct', x_test_text[i])\n",
        "        # print(result)\n",
        "        # print('\\n')\n",
        "    else:\n",
        "        incorrect += 1\n",
        "        # print('\\n')\n",
        "        # print(np.argmax(result), np.argmax(y_test[i]), 'incorrect', x_test_text[i])\n",
        "        # print(result)\n",
        "        # print('\\n')\n",
        "    # print(result)\n",
        "\n",
        "    for label in range(len(count_list)):\n",
        "        # print(label)\n",
        "        if np.argmax(result) == label and np.argmax(y_test[i]) == label:\n",
        "            count_list[label]['true_positive'] += 1\n",
        "            # print('TP', label)\n",
        "        elif np.argmax(result) != label and np.argmax(y_test[i]) == label:\n",
        "            count_list[label]['false_negative'] += 1\n",
        "            # print('FN', label)\n",
        "        elif np.argmax(result) != label and np.argmax(y_test[i]) != label:\n",
        "            count_list[label]['true_negative'] += 1\n",
        "            # print('TN', label)\n",
        "        elif np.argmax(result) == label and np.argmax(y_test[i]) != label:\n",
        "            count_list[label]['false_positive'] += 1\n",
        "            # print('FP', label)\n",
        "\n",
        "    # print('\\n')\n",
        "print(correct, incorrect)"
      ],
      "execution_count": null,
      "outputs": [
        {
          "output_type": "stream",
          "text": [
            "1714 276\n"
          ],
          "name": "stdout"
        }
      ]
    },
    {
      "cell_type": "code",
      "metadata": {
        "colab": {
          "base_uri": "https://localhost:8080/"
        },
        "id": "j-zfS1IAMNRE",
        "outputId": "c4ece5c6-2fb5-4ca0-b5d3-3370a0a3db60"
      },
      "source": [
        "all_precision = []\n",
        "all_recall = []\n",
        "all_f1 = []\n",
        "\n",
        "# calculate statistics about results\n",
        "for i in range(len(count_list)):\n",
        "    try:\n",
        "        precision = count_list[i]['true_positive'] / (count_list[i]['true_positive'] + count_list[i]['false_positive'])\n",
        "        recall = count_list[i]['true_positive'] / (count_list[i]['true_positive'] + count_list[i]['false_negative'])\n",
        "        f1 = 2 * (precision * recall) / (precision + recall)\n",
        "        \n",
        "        all_precision.append(precision)\n",
        "        all_recall.append(recall)\n",
        "        all_f1.append(f1)\n",
        "    except:\n",
        "        all_precision.append(0)\n",
        "        all_recall.append(0)\n",
        "        all_f1.append(0)\n",
        "\n",
        "for i in range(len(count_list)):\n",
        "    print(i)\n",
        "    print(count_list[i])\n",
        "    print(all_precision[i])\n",
        "    print(all_recall[i])\n",
        "    print(all_f1[i])\n",
        "    print('\\n')"
      ],
      "execution_count": null,
      "outputs": [
        {
          "output_type": "stream",
          "text": [
            "0\n",
            "{'false_negative': 38, 'true_negative': 1572, 'false_positive': 43, 'true_positive': 337}\n",
            "0.8868421052631579\n",
            "0.8986666666666666\n",
            "0.8927152317880793\n",
            "\n",
            "\n",
            "1\n",
            "{'false_negative': 101, 'true_negative': 1026, 'false_positive': 69, 'true_positive': 794}\n",
            "0.9200463499420626\n",
            "0.8871508379888268\n",
            "0.9032992036405004\n",
            "\n",
            "\n",
            "2\n",
            "{'false_negative': 41, 'true_negative': 1857, 'false_positive': 16, 'true_positive': 76}\n",
            "0.8260869565217391\n",
            "0.6495726495726496\n",
            "0.7272727272727273\n",
            "\n",
            "\n",
            "3\n",
            "{'false_negative': 38, 'true_negative': 1664, 'false_positive': 81, 'true_positive': 207}\n",
            "0.71875\n",
            "0.8448979591836735\n",
            "0.776735459662289\n",
            "\n",
            "\n",
            "4\n",
            "{'false_negative': 58, 'true_negative': 1565, 'false_positive': 67, 'true_positive': 300}\n",
            "0.8174386920980926\n",
            "0.8379888268156425\n",
            "0.8275862068965517\n",
            "\n",
            "\n"
          ],
          "name": "stdout"
        }
      ]
    },
    {
      "cell_type": "code",
      "metadata": {
        "colab": {
          "base_uri": "https://localhost:8080/"
        },
        "id": "tcaYhYh84YZD",
        "outputId": "dca87694-d4d7-45e2-f489-7ff303ded0f9"
      },
      "source": [
        "df = pd.DataFrame(count_list)\n",
        "df['precision'] = all_precision\n",
        "df['recall'] = all_recall\n",
        "df.to_csv('model_stats.csv')\n",
        "print(df)"
      ],
      "execution_count": null,
      "outputs": [
        {
          "output_type": "stream",
          "text": [
            "   false_negative  true_negative  false_positive  true_positive  precision  \\\n",
            "0              38           1572              43            337   0.886842   \n",
            "1             101           1026              69            794   0.920046   \n",
            "2              41           1857              16             76   0.826087   \n",
            "3              38           1664              81            207   0.718750   \n",
            "4              58           1565              67            300   0.817439   \n",
            "\n",
            "     recall  \n",
            "0  0.898667  \n",
            "1  0.887151  \n",
            "2  0.649573  \n",
            "3  0.844898  \n",
            "4  0.837989  \n"
          ],
          "name": "stdout"
        }
      ]
    },
    {
      "cell_type": "code",
      "metadata": {
        "colab": {
          "base_uri": "https://localhost:8080/"
        },
        "id": "TGIhnuBn3XsI",
        "outputId": "2b23992b-8281-4eaa-e165-21c59bd9e4f1"
      },
      "source": [
        "vape_data = pd.read_csv('/content/youtube-vape-classification/vape-metadata.csv')\n",
        "keep_columns = vape_data.columns[:13]\n",
        "vape_data = vape_data[keep_columns]\n",
        "# print(vape_data.iloc[0])\n",
        "\n",
        "predict_text = []\n",
        "for i, row in vape_data.iterrows():\n",
        "\n",
        "    predict_text.append(preprocess_text(preprocess_text(str(row['Video_Title'])) + ' ' + preprocess_text(str(row['Description']))))\n",
        "\n",
        "predict_sequence = process_text(predict_text)\n",
        "predictions = model.predict(predict_sequence, verbose=1)"
      ],
      "execution_count": null,
      "outputs": [
        {
          "output_type": "stream",
          "text": [
            "132/132 [==============================] - 12s 94ms/step\n"
          ],
          "name": "stdout"
        }
      ]
    },
    {
      "cell_type": "code",
      "metadata": {
        "id": "zw_ebNGX3Y1f"
      },
      "source": [
        "from langdetect import DetectorFactory\n",
        "DetectorFactory.seed = 0\n",
        "\n",
        "for i, row in vape_data.iterrows():\n",
        "    \n",
        "\n",
        "    label = np.argmax(predictions[i])\n",
        "    # langs = detect_langs(predict_text[i])\n",
        "    # if detect(predict_text[i]) != 'en':\n",
        "    #     if str(detect_langs(predict_text[i])[0])[5:8] == '999':\n",
        "    #         label = 'n'\n",
        "            # print(str(detect_langs(predict_text[i])[0]), predict_text[i])\n",
        "        \n",
        "    # print(label, predict_text[i])\n",
        "    vape_data.at[i, 'model_3_1'] = str(label)\n",
        "vape_data.to_excel('video_predictions_model_3.xlsx')"
      ],
      "execution_count": null,
      "outputs": []
    },
    {
      "cell_type": "code",
      "metadata": {
        "id": "bBJE0y6Qvzjf"
      },
      "source": [
        ""
      ],
      "execution_count": null,
      "outputs": []
    }
  ]
}